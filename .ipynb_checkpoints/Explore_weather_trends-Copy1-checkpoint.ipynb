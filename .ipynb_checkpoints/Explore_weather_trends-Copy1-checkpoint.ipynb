{
 "cells": [
  {
   "cell_type": "markdown",
   "metadata": {},
   "source": [
    "# Tools used to compare the global temperature against my local city(Patna)"
   ]
  },
  {
   "cell_type": "markdown",
   "metadata": {},
   "source": [
    "### I used SQL command to extract the data from the datasource and imported it as csv files"
   ]
  },
  {
   "cell_type": "markdown",
   "metadata": {},
   "source": [
    "### To check the nearest city I viewed the city_list table:\n",
    "SELECT CITY FROM CITY_LIST WHERE COUNTRY LIKE 'India';\n",
    "\n",
    "### To extract the global data i used the following command:\n",
    "SELECT * FROM global_data;\n",
    "\n",
    "### To extract the local data i used the following command:\n",
    "SELECT * FROM CITY_DATA WHERE CITY LIKE 'Patna';\n"
   ]
  },
  {
   "cell_type": "markdown",
   "metadata": {},
   "source": [
    "# Importing all the necessary libraries "
   ]
  },
  {
   "cell_type": "code",
   "execution_count": 193,
   "metadata": {},
   "outputs": [],
   "source": [
    "import matplotlib.pyplot as plt\n",
    "import seaborn as sns\n",
    "import pandas as pd\n",
    "import numpy as np\n",
    "from sklearn.impute import SimpleImputer\n",
    "\n",
    "%matplotlib inline\n",
    "%config InlineBackend.figureformat='retina'"
   ]
  },
  {
   "cell_type": "markdown",
   "metadata": {},
   "source": [
    "## Reading local and global data from excelsheet using pandas"
   ]
  },
  {
   "cell_type": "code",
   "execution_count": 194,
   "metadata": {},
   "outputs": [],
   "source": [
    "local_temp = pd.read_csv('results.csv')\n",
    "global_temp = pd.read_csv('global_data.csv')"
   ]
  },
  {
   "cell_type": "markdown",
   "metadata": {},
   "source": [
    "#### Displaying the data"
   ]
  },
  {
   "cell_type": "code",
   "execution_count": 195,
   "metadata": {},
   "outputs": [],
   "source": [
    "local_temp.drop('MOVING_AVG',axis=1,inplace=True)"
   ]
  },
  {
   "cell_type": "code",
   "execution_count": 196,
   "metadata": {},
   "outputs": [],
   "source": [
    "global_temp.drop('MOVING_AVG',axis=1,inplace=True)"
   ]
  },
  {
   "cell_type": "code",
   "execution_count": 197,
   "metadata": {},
   "outputs": [
    {
     "data": {
      "text/html": [
       "<div>\n",
       "<style scoped>\n",
       "    .dataframe tbody tr th:only-of-type {\n",
       "        vertical-align: middle;\n",
       "    }\n",
       "\n",
       "    .dataframe tbody tr th {\n",
       "        vertical-align: top;\n",
       "    }\n",
       "\n",
       "    .dataframe thead th {\n",
       "        text-align: right;\n",
       "    }\n",
       "</style>\n",
       "<table border=\"1\" class=\"dataframe\">\n",
       "  <thead>\n",
       "    <tr style=\"text-align: right;\">\n",
       "      <th></th>\n",
       "      <th>year</th>\n",
       "      <th>city</th>\n",
       "      <th>country</th>\n",
       "      <th>avg_temp</th>\n",
       "    </tr>\n",
       "  </thead>\n",
       "  <tbody>\n",
       "    <tr>\n",
       "      <th>0</th>\n",
       "      <td>1796</td>\n",
       "      <td>Patna</td>\n",
       "      <td>India</td>\n",
       "      <td>24.99</td>\n",
       "    </tr>\n",
       "    <tr>\n",
       "      <th>1</th>\n",
       "      <td>1797</td>\n",
       "      <td>Patna</td>\n",
       "      <td>India</td>\n",
       "      <td>26.49</td>\n",
       "    </tr>\n",
       "    <tr>\n",
       "      <th>2</th>\n",
       "      <td>1798</td>\n",
       "      <td>Patna</td>\n",
       "      <td>India</td>\n",
       "      <td>24.27</td>\n",
       "    </tr>\n",
       "    <tr>\n",
       "      <th>3</th>\n",
       "      <td>1799</td>\n",
       "      <td>Patna</td>\n",
       "      <td>India</td>\n",
       "      <td>25.25</td>\n",
       "    </tr>\n",
       "    <tr>\n",
       "      <th>4</th>\n",
       "      <td>1800</td>\n",
       "      <td>Patna</td>\n",
       "      <td>India</td>\n",
       "      <td>25.20</td>\n",
       "    </tr>\n",
       "  </tbody>\n",
       "</table>\n",
       "</div>"
      ],
      "text/plain": [
       "   year   city country  avg_temp\n",
       "0  1796  Patna   India     24.99\n",
       "1  1797  Patna   India     26.49\n",
       "2  1798  Patna   India     24.27\n",
       "3  1799  Patna   India     25.25\n",
       "4  1800  Patna   India     25.20"
      ]
     },
     "execution_count": 197,
     "metadata": {},
     "output_type": "execute_result"
    }
   ],
   "source": [
    "local_temp.head()"
   ]
  },
  {
   "cell_type": "code",
   "execution_count": 198,
   "metadata": {},
   "outputs": [
    {
     "data": {
      "text/html": [
       "<div>\n",
       "<style scoped>\n",
       "    .dataframe tbody tr th:only-of-type {\n",
       "        vertical-align: middle;\n",
       "    }\n",
       "\n",
       "    .dataframe tbody tr th {\n",
       "        vertical-align: top;\n",
       "    }\n",
       "\n",
       "    .dataframe thead th {\n",
       "        text-align: right;\n",
       "    }\n",
       "</style>\n",
       "<table border=\"1\" class=\"dataframe\">\n",
       "  <thead>\n",
       "    <tr style=\"text-align: right;\">\n",
       "      <th></th>\n",
       "      <th>year</th>\n",
       "      <th>avg_temp</th>\n",
       "    </tr>\n",
       "  </thead>\n",
       "  <tbody>\n",
       "    <tr>\n",
       "      <th>0</th>\n",
       "      <td>1750</td>\n",
       "      <td>8.72</td>\n",
       "    </tr>\n",
       "    <tr>\n",
       "      <th>1</th>\n",
       "      <td>1751</td>\n",
       "      <td>7.98</td>\n",
       "    </tr>\n",
       "    <tr>\n",
       "      <th>2</th>\n",
       "      <td>1752</td>\n",
       "      <td>5.78</td>\n",
       "    </tr>\n",
       "    <tr>\n",
       "      <th>3</th>\n",
       "      <td>1753</td>\n",
       "      <td>8.39</td>\n",
       "    </tr>\n",
       "    <tr>\n",
       "      <th>4</th>\n",
       "      <td>1754</td>\n",
       "      <td>8.47</td>\n",
       "    </tr>\n",
       "  </tbody>\n",
       "</table>\n",
       "</div>"
      ],
      "text/plain": [
       "   year  avg_temp\n",
       "0  1750      8.72\n",
       "1  1751      7.98\n",
       "2  1752      5.78\n",
       "3  1753      8.39\n",
       "4  1754      8.47"
      ]
     },
     "execution_count": 198,
     "metadata": {},
     "output_type": "execute_result"
    }
   ],
   "source": [
    "global_temp.head()"
   ]
  },
  {
   "cell_type": "markdown",
   "metadata": {},
   "source": [
    "### Calculating the moving average for both the data sets using window of 10, 15 and 20 days"
   ]
  },
  {
   "cell_type": "code",
   "execution_count": 199,
   "metadata": {},
   "outputs": [],
   "source": [
    "local_temp['MOVING_AVG_5'] = local_temp['avg_temp'].rolling(5).mean()\n",
    "local_temp['MOVING_AVG_10'] = local_temp['avg_temp'].rolling(10).mean()\n",
    "local_temp['MOVING_AVG_15'] = local_temp['avg_temp'].rolling(15).mean()"
   ]
  },
  {
   "cell_type": "code",
   "execution_count": 200,
   "metadata": {},
   "outputs": [],
   "source": [
    "global_temp['MOVING_AVG_5'] = global_temp['avg_temp'].rolling(5).mean()\n",
    "global_temp['MOVING_AVG_10'] = global_temp['avg_temp'].rolling(10).mean()\n",
    "global_temp['MOVING_AVG_15'] = global_temp['avg_temp'].rolling(15).mean()"
   ]
  },
  {
   "cell_type": "code",
   "execution_count": 201,
   "metadata": {},
   "outputs": [
    {
     "data": {
      "text/html": [
       "<div>\n",
       "<style scoped>\n",
       "    .dataframe tbody tr th:only-of-type {\n",
       "        vertical-align: middle;\n",
       "    }\n",
       "\n",
       "    .dataframe tbody tr th {\n",
       "        vertical-align: top;\n",
       "    }\n",
       "\n",
       "    .dataframe thead th {\n",
       "        text-align: right;\n",
       "    }\n",
       "</style>\n",
       "<table border=\"1\" class=\"dataframe\">\n",
       "  <thead>\n",
       "    <tr style=\"text-align: right;\">\n",
       "      <th></th>\n",
       "      <th>year</th>\n",
       "      <th>city</th>\n",
       "      <th>country</th>\n",
       "      <th>avg_temp</th>\n",
       "      <th>MOVING_AVG_5</th>\n",
       "      <th>MOVING_AVG_10</th>\n",
       "      <th>MOVING_AVG_15</th>\n",
       "    </tr>\n",
       "  </thead>\n",
       "  <tbody>\n",
       "    <tr>\n",
       "      <th>0</th>\n",
       "      <td>1796</td>\n",
       "      <td>Patna</td>\n",
       "      <td>India</td>\n",
       "      <td>24.99</td>\n",
       "      <td>NaN</td>\n",
       "      <td>NaN</td>\n",
       "      <td>NaN</td>\n",
       "    </tr>\n",
       "    <tr>\n",
       "      <th>1</th>\n",
       "      <td>1797</td>\n",
       "      <td>Patna</td>\n",
       "      <td>India</td>\n",
       "      <td>26.49</td>\n",
       "      <td>NaN</td>\n",
       "      <td>NaN</td>\n",
       "      <td>NaN</td>\n",
       "    </tr>\n",
       "    <tr>\n",
       "      <th>2</th>\n",
       "      <td>1798</td>\n",
       "      <td>Patna</td>\n",
       "      <td>India</td>\n",
       "      <td>24.27</td>\n",
       "      <td>NaN</td>\n",
       "      <td>NaN</td>\n",
       "      <td>NaN</td>\n",
       "    </tr>\n",
       "    <tr>\n",
       "      <th>3</th>\n",
       "      <td>1799</td>\n",
       "      <td>Patna</td>\n",
       "      <td>India</td>\n",
       "      <td>25.25</td>\n",
       "      <td>NaN</td>\n",
       "      <td>NaN</td>\n",
       "      <td>NaN</td>\n",
       "    </tr>\n",
       "    <tr>\n",
       "      <th>4</th>\n",
       "      <td>1800</td>\n",
       "      <td>Patna</td>\n",
       "      <td>India</td>\n",
       "      <td>25.20</td>\n",
       "      <td>25.240</td>\n",
       "      <td>NaN</td>\n",
       "      <td>NaN</td>\n",
       "    </tr>\n",
       "    <tr>\n",
       "      <th>...</th>\n",
       "      <td>...</td>\n",
       "      <td>...</td>\n",
       "      <td>...</td>\n",
       "      <td>...</td>\n",
       "      <td>...</td>\n",
       "      <td>...</td>\n",
       "      <td>...</td>\n",
       "    </tr>\n",
       "    <tr>\n",
       "      <th>213</th>\n",
       "      <td>2009</td>\n",
       "      <td>Patna</td>\n",
       "      <td>India</td>\n",
       "      <td>26.31</td>\n",
       "      <td>25.940</td>\n",
       "      <td>25.868</td>\n",
       "      <td>25.832667</td>\n",
       "    </tr>\n",
       "    <tr>\n",
       "      <th>214</th>\n",
       "      <td>2010</td>\n",
       "      <td>Patna</td>\n",
       "      <td>India</td>\n",
       "      <td>26.54</td>\n",
       "      <td>26.026</td>\n",
       "      <td>25.964</td>\n",
       "      <td>25.884667</td>\n",
       "    </tr>\n",
       "    <tr>\n",
       "      <th>215</th>\n",
       "      <td>2011</td>\n",
       "      <td>Patna</td>\n",
       "      <td>India</td>\n",
       "      <td>25.48</td>\n",
       "      <td>25.896</td>\n",
       "      <td>25.930</td>\n",
       "      <td>25.866667</td>\n",
       "    </tr>\n",
       "    <tr>\n",
       "      <th>216</th>\n",
       "      <td>2012</td>\n",
       "      <td>Patna</td>\n",
       "      <td>India</td>\n",
       "      <td>25.98</td>\n",
       "      <td>25.974</td>\n",
       "      <td>25.922</td>\n",
       "      <td>25.901333</td>\n",
       "    </tr>\n",
       "    <tr>\n",
       "      <th>217</th>\n",
       "      <td>2013</td>\n",
       "      <td>Patna</td>\n",
       "      <td>India</td>\n",
       "      <td>26.79</td>\n",
       "      <td>26.220</td>\n",
       "      <td>26.018</td>\n",
       "      <td>25.962667</td>\n",
       "    </tr>\n",
       "  </tbody>\n",
       "</table>\n",
       "<p>218 rows × 7 columns</p>\n",
       "</div>"
      ],
      "text/plain": [
       "     year   city country  avg_temp  MOVING_AVG_5  MOVING_AVG_10  MOVING_AVG_15\n",
       "0    1796  Patna   India     24.99           NaN            NaN            NaN\n",
       "1    1797  Patna   India     26.49           NaN            NaN            NaN\n",
       "2    1798  Patna   India     24.27           NaN            NaN            NaN\n",
       "3    1799  Patna   India     25.25           NaN            NaN            NaN\n",
       "4    1800  Patna   India     25.20        25.240            NaN            NaN\n",
       "..    ...    ...     ...       ...           ...            ...            ...\n",
       "213  2009  Patna   India     26.31        25.940         25.868      25.832667\n",
       "214  2010  Patna   India     26.54        26.026         25.964      25.884667\n",
       "215  2011  Patna   India     25.48        25.896         25.930      25.866667\n",
       "216  2012  Patna   India     25.98        25.974         25.922      25.901333\n",
       "217  2013  Patna   India     26.79        26.220         26.018      25.962667\n",
       "\n",
       "[218 rows x 7 columns]"
      ]
     },
     "execution_count": 201,
     "metadata": {},
     "output_type": "execute_result"
    }
   ],
   "source": [
    "local_temp\n"
   ]
  },
  {
   "cell_type": "code",
   "execution_count": 202,
   "metadata": {},
   "outputs": [
    {
     "data": {
      "text/html": [
       "<div>\n",
       "<style scoped>\n",
       "    .dataframe tbody tr th:only-of-type {\n",
       "        vertical-align: middle;\n",
       "    }\n",
       "\n",
       "    .dataframe tbody tr th {\n",
       "        vertical-align: top;\n",
       "    }\n",
       "\n",
       "    .dataframe thead th {\n",
       "        text-align: right;\n",
       "    }\n",
       "</style>\n",
       "<table border=\"1\" class=\"dataframe\">\n",
       "  <thead>\n",
       "    <tr style=\"text-align: right;\">\n",
       "      <th></th>\n",
       "      <th>year</th>\n",
       "      <th>avg_temp</th>\n",
       "      <th>MOVING_AVG_5</th>\n",
       "      <th>MOVING_AVG_10</th>\n",
       "      <th>MOVING_AVG_15</th>\n",
       "    </tr>\n",
       "  </thead>\n",
       "  <tbody>\n",
       "    <tr>\n",
       "      <th>0</th>\n",
       "      <td>1750</td>\n",
       "      <td>8.72</td>\n",
       "      <td>NaN</td>\n",
       "      <td>NaN</td>\n",
       "      <td>NaN</td>\n",
       "    </tr>\n",
       "    <tr>\n",
       "      <th>1</th>\n",
       "      <td>1751</td>\n",
       "      <td>7.98</td>\n",
       "      <td>NaN</td>\n",
       "      <td>NaN</td>\n",
       "      <td>NaN</td>\n",
       "    </tr>\n",
       "    <tr>\n",
       "      <th>2</th>\n",
       "      <td>1752</td>\n",
       "      <td>5.78</td>\n",
       "      <td>NaN</td>\n",
       "      <td>NaN</td>\n",
       "      <td>NaN</td>\n",
       "    </tr>\n",
       "    <tr>\n",
       "      <th>3</th>\n",
       "      <td>1753</td>\n",
       "      <td>8.39</td>\n",
       "      <td>NaN</td>\n",
       "      <td>NaN</td>\n",
       "      <td>NaN</td>\n",
       "    </tr>\n",
       "    <tr>\n",
       "      <th>4</th>\n",
       "      <td>1754</td>\n",
       "      <td>8.47</td>\n",
       "      <td>7.868</td>\n",
       "      <td>NaN</td>\n",
       "      <td>NaN</td>\n",
       "    </tr>\n",
       "    <tr>\n",
       "      <th>...</th>\n",
       "      <td>...</td>\n",
       "      <td>...</td>\n",
       "      <td>...</td>\n",
       "      <td>...</td>\n",
       "      <td>...</td>\n",
       "    </tr>\n",
       "    <tr>\n",
       "      <th>261</th>\n",
       "      <td>2011</td>\n",
       "      <td>9.52</td>\n",
       "      <td>9.578</td>\n",
       "      <td>9.554</td>\n",
       "      <td>9.477333</td>\n",
       "    </tr>\n",
       "    <tr>\n",
       "      <th>262</th>\n",
       "      <td>2012</td>\n",
       "      <td>9.51</td>\n",
       "      <td>9.534</td>\n",
       "      <td>9.548</td>\n",
       "      <td>9.498000</td>\n",
       "    </tr>\n",
       "    <tr>\n",
       "      <th>263</th>\n",
       "      <td>2013</td>\n",
       "      <td>9.61</td>\n",
       "      <td>9.570</td>\n",
       "      <td>9.556</td>\n",
       "      <td>9.504000</td>\n",
       "    </tr>\n",
       "    <tr>\n",
       "      <th>264</th>\n",
       "      <td>2014</td>\n",
       "      <td>9.57</td>\n",
       "      <td>9.582</td>\n",
       "      <td>9.581</td>\n",
       "      <td>9.522667</td>\n",
       "    </tr>\n",
       "    <tr>\n",
       "      <th>265</th>\n",
       "      <td>2015</td>\n",
       "      <td>9.83</td>\n",
       "      <td>9.608</td>\n",
       "      <td>9.594</td>\n",
       "      <td>9.564667</td>\n",
       "    </tr>\n",
       "  </tbody>\n",
       "</table>\n",
       "<p>266 rows × 5 columns</p>\n",
       "</div>"
      ],
      "text/plain": [
       "     year  avg_temp  MOVING_AVG_5  MOVING_AVG_10  MOVING_AVG_15\n",
       "0    1750      8.72           NaN            NaN            NaN\n",
       "1    1751      7.98           NaN            NaN            NaN\n",
       "2    1752      5.78           NaN            NaN            NaN\n",
       "3    1753      8.39           NaN            NaN            NaN\n",
       "4    1754      8.47         7.868            NaN            NaN\n",
       "..    ...       ...           ...            ...            ...\n",
       "261  2011      9.52         9.578          9.554       9.477333\n",
       "262  2012      9.51         9.534          9.548       9.498000\n",
       "263  2013      9.61         9.570          9.556       9.504000\n",
       "264  2014      9.57         9.582          9.581       9.522667\n",
       "265  2015      9.83         9.608          9.594       9.564667\n",
       "\n",
       "[266 rows x 5 columns]"
      ]
     },
     "execution_count": 202,
     "metadata": {},
     "output_type": "execute_result"
    }
   ],
   "source": [
    "global_temp"
   ]
  },
  {
   "cell_type": "markdown",
   "metadata": {},
   "source": [
    "### Replacing all the nan values in both the datasets using backfill padding\n",
    "#### Before that we check the number of nan values"
   ]
  },
  {
   "cell_type": "code",
   "execution_count": 203,
   "metadata": {},
   "outputs": [
    {
     "data": {
      "text/plain": [
       "year              0\n",
       "city              0\n",
       "country           0\n",
       "avg_temp          8\n",
       "MOVING_AVG_5     20\n",
       "MOVING_AVG_10    35\n",
       "MOVING_AVG_15    48\n",
       "dtype: int64"
      ]
     },
     "execution_count": 203,
     "metadata": {},
     "output_type": "execute_result"
    }
   ],
   "source": [
    "local_temp.isna().sum()"
   ]
  },
  {
   "cell_type": "code",
   "execution_count": 204,
   "metadata": {},
   "outputs": [
    {
     "data": {
      "text/plain": [
       "year              0\n",
       "avg_temp          0\n",
       "MOVING_AVG_5      4\n",
       "MOVING_AVG_10     9\n",
       "MOVING_AVG_15    14\n",
       "dtype: int64"
      ]
     },
     "execution_count": 204,
     "metadata": {},
     "output_type": "execute_result"
    }
   ],
   "source": [
    "global_temp.isna().sum()"
   ]
  },
  {
   "cell_type": "code",
   "execution_count": 205,
   "metadata": {},
   "outputs": [],
   "source": [
    "local_temp.fillna(method='backfill',inplace=True,axis=0)"
   ]
  },
  {
   "cell_type": "code",
   "execution_count": 206,
   "metadata": {},
   "outputs": [],
   "source": [
    "global_temp.fillna(method='backfill',inplace=True,axis=0)"
   ]
  },
  {
   "cell_type": "code",
   "execution_count": 207,
   "metadata": {},
   "outputs": [
    {
     "data": {
      "text/plain": [
       "0"
      ]
     },
     "execution_count": 207,
     "metadata": {},
     "output_type": "execute_result"
    }
   ],
   "source": [
    "local_temp.isna().sum().sum()"
   ]
  },
  {
   "cell_type": "code",
   "execution_count": 208,
   "metadata": {},
   "outputs": [
    {
     "data": {
      "text/plain": [
       "0"
      ]
     },
     "execution_count": 208,
     "metadata": {},
     "output_type": "execute_result"
    }
   ],
   "source": [
    "global_temp.isna().sum().sum()"
   ]
  },
  {
   "cell_type": "markdown",
   "metadata": {},
   "source": [
    "### Plotting the curves of year vs moving average in both three cases of moving average(5, 10, 15) on different graphs\n",
    "##### I have limited the year in the range from 1795 till 2015 because my city, Patna, data was available 1796 onwards. I took this step for a better visualization"
   ]
  },
  {
   "cell_type": "code",
   "execution_count": 209,
   "metadata": {},
   "outputs": [
    {
     "data": {
      "image/png": "[encoded data removed]",
      "text/plain": [
       "<Figure size 1296x648 with 1 Axes>"
      ]
     },
     "metadata": {
      "needs_background": "light"
     },
     "output_type": "display_data"
    }
   ],
   "source": [
    "figure = plt.figure(figsize=(18,9))\n",
    "plt.plot(local_temp['year'],local_temp['MOVING_AVG_5'], label='patna')\n",
    "plt.plot(global_temp['year'],global_temp['MOVING_AVG_5'],label='global_data')\n",
    "plt.legend(loc ='center')\n",
    "plt.xlabel('Years')\n",
    "plt.ylabel('Temperature(celsius)')\n",
    "plt.xticks(np.arange(1750,2020,5),rotation=90)\n",
    "plt.yticks(np.arange(0,31,1))\n",
    "plt.xlim(1795,2015)\n",
    "plt.show()\n"
   ]
  },
  {
   "cell_type": "code",
   "execution_count": 210,
   "metadata": {},
   "outputs": [
    {
     "data": {
      "image/png": "[encoded data removed]",
      "text/plain": [
       "<Figure size 1296x648 with 1 Axes>"
      ]
     },
     "metadata": {
      "needs_background": "light"
     },
     "output_type": "display_data"
    }
   ],
   "source": [
    "figure = plt.figure(figsize=(18,9))\n",
    "plt.plot(local_temp['year'],local_temp['MOVING_AVG_10'], label='patna')\n",
    "plt.plot(global_temp['year'],global_temp['MOVING_AVG_10'],label='global_data')\n",
    "plt.legend(loc ='center')\n",
    "plt.xlabel('Years')\n",
    "plt.ylabel('Temperature(celsius)')\n",
    "plt.xticks(np.arange(1750,2020,5),rotation=90)\n",
    "plt.yticks(np.arange(0,31,1))\n",
    "plt.xlim(1795,2015)\n",
    "plt.show()\n",
    "\n"
   ]
  },
  {
   "cell_type": "code",
   "execution_count": 211,
   "metadata": {},
   "outputs": [
    {
     "data": {
      "image/png": "[encoded data removed]",
      "text/plain": [
       "<Figure size 1296x648 with 1 Axes>"
      ]
     },
     "metadata": {
      "needs_background": "light"
     },
     "output_type": "display_data"
    }
   ],
   "source": [
    "figure = plt.figure(figsize=(18,9))\n",
    "plt.plot(local_temp['year'],local_temp['MOVING_AVG_15'], label='patna')\n",
    "plt.plot(global_temp['year'],global_temp['MOVING_AVG_15'],label='global_data')\n",
    "plt.legend(loc ='center')\n",
    "plt.xlabel('Years')\n",
    "plt.ylabel('Temperature(celsius)')\n",
    "plt.xticks(np.arange(1750,2020,5),rotation=90)\n",
    "plt.yticks(np.arange(0,31,1))\n",
    "plt.xlim(1795,2015)\n",
    "plt.show()\n",
    "\n"
   ]
  },
  {
   "cell_type": "markdown",
   "metadata": {},
   "source": [
    "# OBSERVATIONS"
   ]
  },
  {
   "cell_type": "markdown",
   "metadata": {},
   "source": [
    " - Patna city is hotter than global temperature in the years ranging from 1796 to 2015(clearly shown in the graphs).\n",
    " - The difference in the moving average temperature trend seems to be constant throughout the given period.\n",
    " - The local(Patna) as well the global temperatures are increasing in the given period.\n",
    " - From the visual it is clear that their is more fluctuation in the moving average tempertaure of local city than the global average. \n",
    " - Eventhough there is a drop in global temperture(moving average), the local temperature tends to increase constantly. "
   ]
  },
  {
   "cell_type": "code",
   "execution_count": null,
   "metadata": {},
   "outputs": [],
   "source": []
  },
  {
   "cell_type": "code",
   "execution_count": null,
   "metadata": {},
   "outputs": [],
   "source": []
  }
 ],
 "metadata": {
  "kernelspec": {
   "display_name": "Python 3",
   "language": "python",
   "name": "python3"
  },
  "language_info": {
   "codemirror_mode": {
    "name": "ipython",
    "version": 3
   },
   "file_extension": ".py",
   "mimetype": "text/x-python",
   "name": "python",
   "nbconvert_exporter": "python",
   "pygments_lexer": "ipython3",
   "version": "3.7.7"
  }
 },
 "nbformat": 4,
 "nbformat_minor": 2
}
